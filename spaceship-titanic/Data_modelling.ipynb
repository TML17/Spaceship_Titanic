{
 "cells": [
  {
   "cell_type": "code",
   "execution_count": 55,
   "metadata": {},
   "outputs": [],
   "source": [
    "import numpy as np\n",
    "import pandas as pd\n",
    "import matplotlib.pyplot as plt\n",
    "import seaborn as sns\n",
    "from sklearn.pipeline import Pipeline\n",
    "from sklearn.preprocessing import StandardScaler, RobustScaler, MaxAbsScaler\n",
    "from sklearn.decomposition import PCA\n",
    "from sklearn.neighbors import KNeighborsClassifier\n",
    "from sklearn.tree import DecisionTreeClassifier\n",
    "from sklearn.svm import SVC\n",
    "from xgboost import XGBClassifier\n",
    "from sklearn.preprocessing import PowerTransformer\n",
    "from sklearn.model_selection import cross_val_predict\n",
    "from sklearn.model_selection import GridSearchCV\n",
    "from sklearn.ensemble import RandomForestClassifier\n",
    "from sklearn.linear_model import LogisticRegression\n",
    "from sklearn.linear_model import LogisticRegressionCV\n"
   ]
  },
  {
   "cell_type": "code",
   "execution_count": 36,
   "metadata": {},
   "outputs": [],
   "source": [
    "test_data = pd.read_csv('/Users/yukihuang/Documents/Grinnell College/Spring2024/STA395/final project/Spaceship_Titanic/spaceship-titanic/test_data_mode.csv')\n",
    "train_data = pd.read_csv('/Users/yukihuang/Documents/Grinnell College/Spring2024/STA395/final project/Spaceship_Titanic/spaceship-titanic/train_data_mode.csv')\n",
    "\n",
    "test_passenger_id = test_data['PassengerId'].copy()\n",
    "train_data.drop(['PassengerId', 'Name', 'Cabin'], axis=1, inplace=True)\n",
    "test_data.drop(['PassengerId', 'Name', 'Cabin'], axis=1, inplace=True)\n",
    "\n",
    "# Convert Boolean Columns to Floats\n",
    "train_data.replace({False: 0, True: 1}, inplace=True)\n",
    "test_data.replace({False: 0, True: 1}, inplace=True)\n",
    "\n",
    "# Splitting the features and target\n",
    "train_y = train_data['Transported'].astype(float)\n",
    "train_X = train_data.drop('Transported', axis=1).astype(float)\n",
    "test_X = test_data.astype(float)"
   ]
  },
  {
   "cell_type": "code",
   "execution_count": 37,
   "metadata": {},
   "outputs": [
    {
     "name": "stdout",
     "output_type": "stream",
     "text": [
      "Pipeline(steps=[('transformer', PowerTransformer()), ('scaler', MaxAbsScaler()),\n",
      "                ('reducer', 'passthrough'),\n",
      "                ('classifier',\n",
      "                 KNeighborsClassifier(n_neighbors=35, p=1,\n",
      "                                      weights='distance'))])\n",
      "0.7617624112372294\n"
     ]
    }
   ],
   "source": [
    "# k-nearest neighbors\n",
    "\n",
    "pipe = Pipeline([\n",
    "    ('transformer',  PowerTransformer(method = 'yeo-johnson')),\n",
    "    ('scaler', StandardScaler()),\n",
    "    ('reducer', PCA()),\n",
    "    ('classifier', None)\n",
    "])\n",
    "\n",
    "parms_knn = [\n",
    "    {'classifier': [KNeighborsClassifier()],\n",
    "     'scaler': [StandardScaler(), RobustScaler(), MaxAbsScaler()],\n",
    "    'reducer': ['passthrough', PCA(n_components=4), PCA(n_components=8)],\n",
    "    'classifier__n_neighbors': [20, 30,35, 40,45, 55],\n",
    "    'classifier__weights': ['distance', 'uniform'],\n",
    "    'classifier__p': [1, 2]\n",
    "}]\n",
    "\n",
    "grid_res_knn = GridSearchCV(pipe, parms_knn, cv=5, scoring = 'accuracy').fit(train_X, train_y)\n",
    "print(grid_res_knn.best_estimator_)\n",
    "print(grid_res_knn.best_score_)\n"
   ]
  },
  {
   "cell_type": "code",
   "execution_count": 38,
   "metadata": {},
   "outputs": [],
   "source": [
    "test_predictions = grid_res_knn.best_estimator_.predict(test_X)\n",
    "submission_df = pd.DataFrame({\n",
    "    \"PassengerId\": test_passenger_id,\n",
    "    \"Transported\": test_predictions.flatten().astype(bool)\n",
    "})\n",
    "submission_df.to_csv('/Users/yukihuang/Documents/Grinnell College/Spring2024/STA395/final project/Spaceship_Titanic/spaceship-titanic/submission_knn.csv', index=False)"
   ]
  },
  {
   "cell_type": "code",
   "execution_count": 40,
   "metadata": {},
   "outputs": [
    {
     "name": "stdout",
     "output_type": "stream",
     "text": [
      "Pipeline(steps=[('transformer', PowerTransformer()), ('scaler', RobustScaler()),\n",
      "                ('reducer', 'passthrough'),\n",
      "                ('classifier',\n",
      "                 DecisionTreeClassifier(max_depth=8, min_samples_leaf=3,\n",
      "                                        min_samples_split=4))])\n",
      "0.777638829241307\n"
     ]
    }
   ],
   "source": [
    "# decision tree\n",
    "\n",
    "parms_dt = [\n",
    "    {'classifier': [DecisionTreeClassifier()],\n",
    "    'scaler': [StandardScaler(), RobustScaler(), MaxAbsScaler()],\n",
    "    'reducer': ['passthrough', PCA(n_components=4), PCA(n_components=8)],\n",
    "    'classifier__max_depth': range(3, 10),  \n",
    "    'classifier__min_samples_split': range(2, 11), \n",
    "    'classifier__min_samples_leaf': range(1, 6)\n",
    "}]\n",
    "\n",
    "grid_res_dt = GridSearchCV(pipe, parms_dt, cv=5, scoring = 'accuracy',n_jobs = -1).fit(train_X, train_y)\n",
    "print(grid_res_dt.best_estimator_)\n",
    "print(grid_res_dt.best_score_)\n"
   ]
  },
  {
   "cell_type": "code",
   "execution_count": 41,
   "metadata": {},
   "outputs": [],
   "source": [
    "test_predictions_dt = grid_res_dt.best_estimator_.predict(test_X)\n",
    "submission_dt = pd.DataFrame({\n",
    "    \"PassengerId\": test_passenger_id,\n",
    "    \"Transported\": test_predictions_dt.flatten().astype(bool)\n",
    "})\n",
    "submission_dt.to_csv('/Users/yukihuang/Documents/Grinnell College/Spring2024/STA395/final project/Spaceship_Titanic/spaceship-titanic/submission_dt.csv', index=False)\n"
   ]
  },
  {
   "cell_type": "code",
   "execution_count": 66,
   "metadata": {},
   "outputs": [
    {
     "name": "stdout",
     "output_type": "stream",
     "text": [
      "Pipeline(steps=[('transformer', PowerTransformer()), ('scaler', MaxAbsScaler()),\n",
      "                ('reducer', PCA(n_components=12)),\n",
      "                ('classifier',\n",
      "                 SVC(C=25, class_weight='balanced', kernel='poly'))])\n",
      "0.7776398880088619\n"
     ]
    }
   ],
   "source": [
    "# Support vector machine\n",
    "\n",
    "parms_svm = [{\n",
    "    'classifier': [SVC()],\n",
    "    'scaler': [StandardScaler(), RobustScaler(), MaxAbsScaler()],\n",
    "    'reducer': ['passthrough', PCA(n_components= 12), PCA(n_components= 16)],\n",
    "    'classifier__kernel': ['poly', 'linear', 'rbf'],\n",
    "    'classifier__C': [15, 20, 25],\n",
    "    'classifier__class_weight': ['balanced', None]\n",
    "}]\n",
    "\n",
    "grid_res_svm = GridSearchCV(pipe, parms_svm, cv=5, scoring = 'accuracy', n_jobs = -1).fit(train_X, train_y)\n",
    "print(grid_res_svm.best_estimator_)\n",
    "print(grid_res_svm.best_score_)"
   ]
  },
  {
   "cell_type": "code",
   "execution_count": 65,
   "metadata": {},
   "outputs": [],
   "source": [
    "test_predictions_svm = grid_res_svm.best_estimator_.predict(test_X)\n",
    "submission_svm = pd.DataFrame({\n",
    "    \"PassengerId\": test_passenger_id,\n",
    "    \"Transported\": test_predictions_svm.flatten().astype(bool)\n",
    "})\n",
    "submission_svm.to_csv('/Users/yukihuang/Documents/Grinnell College/Spring2024/STA395/final project/Spaceship_Titanic/spaceship-titanic/submission_svm.csv', index=False)\n"
   ]
  },
  {
   "cell_type": "code",
   "execution_count": 51,
   "metadata": {},
   "outputs": [
    {
     "name": "stdout",
     "output_type": "stream",
     "text": [
      "{'classifier': RandomForestClassifier(max_depth=10, min_samples_leaf=2, min_samples_split=3,\n",
      "                       n_estimators=400), 'classifier__max_depth': 10, 'classifier__max_features': 'sqrt', 'classifier__min_samples_leaf': 2, 'classifier__min_samples_split': 3, 'classifier__n_estimators': 400}\n",
      "0.7644078081460252\n"
     ]
    }
   ],
   "source": [
    "# random forest \n",
    "\n",
    "parms_rf = [\n",
    "    {\n",
    "        'classifier': [RandomForestClassifier()],\n",
    "        'classifier__max_depth': [6, 8, 10, 15, 20],\n",
    "        'classifier__max_features': ['sqrt'],\n",
    "        'classifier__min_samples_split': [3, 5, 6, 8, 10],\n",
    "        'classifier__min_samples_leaf' : [1, 2, 4, 6],\n",
    "        'classifier__n_estimators': [100, 200, 400]\n",
    "    }\n",
    "]\n",
    "\n",
    "grid_res_rf = GridSearchCV(pipe, parms_rf, cv = 5, scoring = 'accuracy',n_jobs = -1).fit(train_X, train_y)\n",
    "\n",
    "print(grid_res_rf.best_params_)\n",
    "print(grid_res_rf.best_score_)"
   ]
  },
  {
   "cell_type": "code",
   "execution_count": 53,
   "metadata": {},
   "outputs": [],
   "source": [
    "test_predictions_rf = grid_res_rf.best_estimator_.predict(test_X)\n",
    "submission_rf = pd.DataFrame({\n",
    "    \"PassengerId\": test_passenger_id,\n",
    "    \"Transported\": test_predictions_rf.flatten().astype(bool)\n",
    "})\n",
    "submission_rf.to_csv('/Users/yukihuang/Documents/Grinnell College/Spring2024/STA395/final project/Spaceship_Titanic/spaceship-titanic/submission_rf.csv', index=False)\n"
   ]
  },
  {
   "cell_type": "code",
   "execution_count": 45,
   "metadata": {},
   "outputs": [
    {
     "name": "stdout",
     "output_type": "stream",
     "text": [
      "{'classifier': XGBClassifier(base_score=None, booster=None, callbacks=None,\n",
      "              colsample_bylevel=None, colsample_bynode=None,\n",
      "              colsample_bytree=0.8, device=None, early_stopping_rounds=None,\n",
      "              enable_categorical=False, eval_metric=None, feature_types=None,\n",
      "              gamma=0.15, grow_policy=None, importance_type=None,\n",
      "              interaction_constraints=None, learning_rate=0.1, max_bin=None,\n",
      "              max_cat_threshold=None, max_cat_to_onehot=None,\n",
      "              max_delta_step=None, max_depth=6, max_leaves=None,\n",
      "              min_child_weight=None, missing=nan, monotone_constraints=None,\n",
      "              multi_strategy=None, n_estimators=75, n_jobs=None,\n",
      "              num_parallel_tree=None, random_state=30, ...), 'classifier__colsample_bytree': 0.8, 'classifier__gamma': 0.15, 'classifier__learning_rate': 0.1, 'classifier__max_depth': 6, 'classifier__n_estimators': 75, 'classifier__random_state': 30}\n",
      "0.7618747067710171\n"
     ]
    }
   ],
   "source": [
    "# Xgboost\n",
    "parms_xg = [\n",
    "    {\n",
    "    'classifier': [XGBClassifier()],\n",
    "    'classifier__n_estimators': [25, 50, 75, 100],            \n",
    "    'classifier__learning_rate':[0.01, 0.05, 0.1, 0.15],       \n",
    "    'classifier__max_depth': [2, 4, 6, 8],     \n",
    "    'classifier__gamma': [0, 0.05, 0.1, 0.15],         \n",
    "    'classifier__colsample_bytree': [0.5, 0.7, 0.8], \n",
    "    'classifier__random_state': [20, 30, 40, 50]         \n",
    "}]\n",
    "\n",
    "grid_res_xg = GridSearchCV(pipe, parms_xg, cv = 5, scoring = 'accuracy',n_jobs = -1).fit(train_X, train_y)\n",
    "\n",
    "print(grid_res_xg.best_params_)\n",
    "print(grid_res_xg.best_score_) \n"
   ]
  },
  {
   "cell_type": "code",
   "execution_count": 52,
   "metadata": {},
   "outputs": [],
   "source": [
    "test_predictions_xgb = grid_res_xg.best_estimator_.predict(test_X)\n",
    "submission_xgb = pd.DataFrame({\n",
    "    \"PassengerId\": test_passenger_id,\n",
    "    \"Transported\": test_predictions_xgb.flatten().astype(bool)\n",
    "})\n",
    "submission_xgb.to_csv('/Users/yukihuang/Documents/Grinnell College/Spring2024/STA395/final project/Spaceship_Titanic/spaceship-titanic/submission_xgb.csv', index=False)\n"
   ]
  },
  {
   "cell_type": "code",
   "execution_count": 62,
   "metadata": {},
   "outputs": [
    {
     "name": "stdout",
     "output_type": "stream",
     "text": [
      "{'classifier': LogisticRegression(C=0.1, max_iter=1000, penalty='l1', random_state=0,\n",
      "                   solver='liblinear'), 'classifier__C': 0.1, 'classifier__max_iter': 1000, 'classifier__penalty': 'l1', 'classifier__random_state': 0, 'classifier__solver': 'liblinear'}\n",
      "0.7501429005334204\n"
     ]
    }
   ],
   "source": [
    "# logistic regression \n",
    "parms_lg =[\n",
    "    {\n",
    "        'classifier': [LogisticRegression()],\n",
    "        'classifier__penalty': ['l1','l2'],\n",
    "        'classifier__C': [0.1, 0.5, 0.8, 1.0],\n",
    "        'classifier__solver': ['liblinear', 'saga'],\n",
    "        'classifier__random_state': [0, 1, 2],\n",
    "        'classifier__max_iter': [1000]\n",
    "    },\n",
    "    {\n",
    "        'classifier': [LogisticRegression()],\n",
    "        'classifier__penalty': ['l2'],\n",
    "        'classifier__C': [0.1, 0.5, 0.8, 1.0],\n",
    "        'classifier__solver': ['lbfgs', 'newton-cg', 'saga'],\n",
    "        'classifier__random_state': [0, 1, 2],\n",
    "        'classifier__max_iter': [1000]\n",
    "    },\n",
    "    {\n",
    "        'classifier': [LogisticRegression()],\n",
    "        'classifier__penalty': [None],\n",
    "        'classifier__solver': ['lbfgs', 'newton-cg', 'saga'],\n",
    "        'classifier__random_state': [0, 1, 2],\n",
    "        'classifier__max_iter': [1000]\n",
    "    },\n",
    "    {\n",
    "        'classifier': [LogisticRegression()],\n",
    "        'classifier__penalty': ['elasticnet'],\n",
    "        'classifier__C': [0.1, 0.5, 0.8, 1.0],\n",
    "        'classifier__solver': ['saga'],\n",
    "        'classifier__l1_ratio': [0.1, 0.15, 0.4, 0.6, 0.8],\n",
    "        'classifier__random_state': [0, 1, 2],\n",
    "        'classifier__max_iter': [1000]\n",
    "    }]\n",
    "\n",
    "grid_res_lg = GridSearchCV(pipe, parms_lg, cv = 5, scoring = 'accuracy',n_jobs = -1).fit(train_X, train_y)\n",
    "\n",
    "print(grid_res_lg.best_params_)\n",
    "print(grid_res_lg.best_score_) \n"
   ]
  },
  {
   "cell_type": "code",
   "execution_count": 63,
   "metadata": {},
   "outputs": [],
   "source": [
    "test_predictions_lg = grid_res_lg.best_estimator_.predict(test_X)\n",
    "submission_lg = pd.DataFrame({\n",
    "    \"PassengerId\": test_passenger_id,\n",
    "    \"Transported\": test_predictions_lg.flatten().astype(bool)\n",
    "})\n",
    "submission_lg.to_csv('/Users/yukihuang/Documents/Grinnell College/Spring2024/STA395/final project/Spaceship_Titanic/spaceship-titanic/submission_lg.csv', index=False)\n"
   ]
  },
  {
   "cell_type": "markdown",
   "metadata": {},
   "source": []
  },
  {
   "cell_type": "markdown",
   "metadata": {},
   "source": []
  },
  {
   "cell_type": "code",
   "execution_count": null,
   "metadata": {},
   "outputs": [],
   "source": []
  }
 ],
 "metadata": {
  "kernelspec": {
   "display_name": "base",
   "language": "python",
   "name": "python3"
  },
  "language_info": {
   "codemirror_mode": {
    "name": "ipython",
    "version": 3
   },
   "file_extension": ".py",
   "mimetype": "text/x-python",
   "name": "python",
   "nbconvert_exporter": "python",
   "pygments_lexer": "ipython3",
   "version": "3.11.5"
  }
 },
 "nbformat": 4,
 "nbformat_minor": 2
}
