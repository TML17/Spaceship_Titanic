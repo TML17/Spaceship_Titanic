{
 "cells": [
  {
   "cell_type": "code",
   "execution_count": 1,
   "id": "10918bf2",
   "metadata": {},
   "outputs": [],
   "source": [
    "import torch\n",
    "import torchvision\n",
    "import pandas as pd\n",
    "import numpy as np\n",
    "import os\n",
    "import matplotlib.pyplot as plt\n",
    "\n",
    "from sklearn.model_selection import train_test_split\n",
    "from skimage import io\n",
    "from torch import nn\n",
    "from torch.utils.data import DataLoader, TensorDataset"
   ]
  },
  {
   "cell_type": "code",
   "execution_count": 2,
   "id": "61d4e8f4",
   "metadata": {},
   "outputs": [],
   "source": [
    "class my_net(nn.Module):\n",
    "    def __init__(self, num_features):\n",
    "        super(my_net, self).__init__()\n",
    "        self.conv_stack = nn.Sequential(\n",
    "            # Assume each feature is treated as a separate channel\n",
    "            nn.Conv2d(in_channels=num_features, out_channels=10, kernel_size=(1, 1), stride=(1, 1)),\n",
    "            nn.ReLU(),\n",
    "            # Further convolutions might need to be adjusted depending on the input size and desired architecture\n",
    "            nn.Conv2d(in_channels=10, out_channels=30, kernel_size=(1, 1), stride=(1, 1)),\n",
    "            nn.ReLU(),\n",
    "            nn.Conv2d(in_channels=30, out_channels=50, kernel_size=(1, 1), stride=(1, 1)),\n",
    "            nn.ReLU(),\n",
    "            nn.Conv2d(in_channels=50, out_channels=70, kernel_size=(1, 1), stride=(1, 1)),\n",
    "            nn.ReLU(),\n",
    "            nn.Dropout(0.5),\n",
    "            nn.Flatten(),\n",
    "            nn.Linear(70, 1000),  # Adjust based on the actual output size of the last conv layer\n",
    "            nn.ReLU(),\n",
    "            nn.Linear(1000, 1)\n",
    "        )\n",
    "    \n",
    "    def forward(self, x):\n",
    "        scores = self.conv_stack(x)\n",
    "        return scores"
   ]
  },
  {
   "cell_type": "code",
   "execution_count": 3,
   "id": "4e73a761",
   "metadata": {},
   "outputs": [
    {
     "name": "stdout",
     "output_type": "stream",
     "text": [
      "GPU is available\n"
     ]
    }
   ],
   "source": [
    "## Checking the availiability of cuda cores\n",
    "if torch.cuda.is_available():\n",
    "    device = torch.device('cuda')\n",
    "    print('GPU is available')\n",
    "else:\n",
    "    device = torch.device('cpu')\n",
    "    print('GPU is not available')"
   ]
  },
  {
   "cell_type": "code",
   "execution_count": 4,
   "id": "ce5a4e0e",
   "metadata": {},
   "outputs": [],
   "source": [
    "## Hyperparms\n",
    "epochs = 40\n",
    "lrate = 0.001\n",
    "bsize = 32\n",
    "\n",
    "## For reproduction purposes \n",
    "torch.manual_seed(7)\n",
    "\n",
    "## Cost Function\n",
    "cost_fn = nn.BCEWithLogitsLoss()\n",
    "\n",
    "## Intialize the model\n",
    "net = my_net(num_features=25)\n",
    "\n",
    "## Optimizer (Stochastic Gradient Descent)\n",
    "optimizer = torch.optim.SGD(net.parameters(), lr=lrate)"
   ]
  },
  {
   "cell_type": "code",
   "execution_count": 5,
   "id": "6e5db08c-ec95-45dd-afaf-226de6e132e6",
   "metadata": {},
   "outputs": [],
   "source": [
    "test_data = pd.read_csv(r'C:\\Users\\liuch\\Desktop\\395\\Final_Project\\Spaceship_Titanic\\spaceship-titanic\\test_data_mode.csv')\n",
    "train_data = pd.read_csv(r'C:\\Users\\liuch\\Desktop\\395\\Final_Project\\Spaceship_Titanic\\spaceship-titanic\\train_data_mode.csv')\n",
    "\n",
    "test_passenger_id = test_data['PassengerId'].copy()\n",
    "train_data.drop(['PassengerId', 'Name', 'Cabin'], axis=1, inplace=True)\n",
    "test_data.drop(['PassengerId', 'Name', 'Cabin'], axis=1, inplace=True)\n",
    "\n",
    "# Convert Boolean Columns to Floats\n",
    "train_data.replace({False: 0, True: 1}, inplace=True)\n",
    "test_data.replace({False: 0, True: 1}, inplace=True)\n",
    "\n",
    "# Splitting the features and target\n",
    "train_y = train_data['Transported'].astype(float)\n",
    "train_X = train_data.drop('Transported', axis=1).astype(float)\n",
    "test_X = test_data.astype(float)"
   ]
  },
  {
   "cell_type": "code",
   "execution_count": 6,
   "id": "04111f51-1b56-4f4e-8c4d-fe2afb9d5c2a",
   "metadata": {},
   "outputs": [
    {
     "name": "stdout",
     "output_type": "stream",
     "text": [
      "CryoSleep                    float64\n",
      "Age                          float64\n",
      "VIP                          float64\n",
      "RoomService                  float64\n",
      "FoodCourt                    float64\n",
      "ShoppingMall                 float64\n",
      "Spa                          float64\n",
      "VRDeck                       float64\n",
      "Num                          float64\n",
      "Deck_A                       float64\n",
      "Deck_B                       float64\n",
      "Deck_C                       float64\n",
      "Deck_D                       float64\n",
      "Deck_E                       float64\n",
      "Deck_F                       float64\n",
      "Deck_G                       float64\n",
      "Deck_T                       float64\n",
      "Side_P                       float64\n",
      "Side_S                       float64\n",
      "Destination_55 Cancri e      float64\n",
      "Destination_PSO J318.5-22    float64\n",
      "Destination_TRAPPIST-1e      float64\n",
      "HomePlanet_Earth             float64\n",
      "HomePlanet_Europa            float64\n",
      "HomePlanet_Mars              float64\n",
      "dtype: object\n"
     ]
    }
   ],
   "source": [
    "# Convert Boolean Columns to Floats\n",
    "for col in train_X.columns:\n",
    "    if train_X[col].dtype == bool:\n",
    "        train_X[col] = train_X[col].astype(float)\n",
    "\n",
    "print(train_X.dtypes)"
   ]
  },
  {
   "cell_type": "code",
   "execution_count": 7,
   "id": "e263334a-aba8-4288-8881-6e1529b9599a",
   "metadata": {},
   "outputs": [
    {
     "name": "stdout",
     "output_type": "stream",
     "text": [
      "CryoSleep                    float64\n",
      "Age                          float64\n",
      "VIP                          float64\n",
      "RoomService                  float64\n",
      "FoodCourt                    float64\n",
      "ShoppingMall                 float64\n",
      "Spa                          float64\n",
      "VRDeck                       float64\n",
      "Num                          float64\n",
      "Deck_A                       float64\n",
      "Deck_B                       float64\n",
      "Deck_C                       float64\n",
      "Deck_D                       float64\n",
      "Deck_E                       float64\n",
      "Deck_F                       float64\n",
      "Deck_G                       float64\n",
      "Deck_T                       float64\n",
      "Side_P                       float64\n",
      "Side_S                       float64\n",
      "Destination_55 Cancri e      float64\n",
      "Destination_PSO J318.5-22    float64\n",
      "Destination_TRAPPIST-1e      float64\n",
      "HomePlanet_Earth             float64\n",
      "HomePlanet_Europa            float64\n",
      "HomePlanet_Mars              float64\n",
      "dtype: object\n"
     ]
    }
   ],
   "source": [
    "# Convert Boolean Columns to Floats\n",
    "for col in test_X.columns:\n",
    "    if test_X[col].dtype == bool or test_X[col].dtype == object:\n",
    "        test_X[col] = test_X[col].astype(float)\n",
    "\n",
    "print(test_X.dtypes)"
   ]
  },
  {
   "cell_type": "code",
   "execution_count": 8,
   "id": "6891e63c-350c-4a8a-b45a-b9c793d0e38f",
   "metadata": {},
   "outputs": [],
   "source": [
    "X_train, X_val, y_train, y_val = train_test_split(train_X, train_y, test_size=0.2, random_state=42)\n",
    "\n",
    "# Convert pandas dataframes to PyTorch tensors\n",
    "X_train_tensor = torch.tensor(X_train.values, dtype=torch.float32).view(-1, X_train.shape[1], 1, 1)\n",
    "X_val_tensor = torch.tensor(X_val.values, dtype=torch.float32).view(-1, X_val.shape[1], 1, 1)\n",
    "X_test_tensor = torch.tensor(test_X.values, dtype=torch.float32).view(-1, test_X.shape[1], 1, 1)\n",
    "y_train_tensor = torch.tensor(y_train.values, dtype=torch.float32)\n",
    "y_val_tensor = torch.tensor(y_val.values, dtype=torch.float32)\n",
    "\n",
    "# Create Tensor datasets and DataLoaders\n",
    "train_dataset = TensorDataset(X_train_tensor, y_train_tensor)\n",
    "val_dataset = TensorDataset(X_val_tensor, y_val_tensor)\n",
    "train_loader = DataLoader(train_dataset, batch_size=32, shuffle=True)\n",
    "val_loader = DataLoader(val_dataset, batch_size=32, shuffle=False)"
   ]
  },
  {
   "cell_type": "code",
   "execution_count": 9,
   "id": "bc17290a-d6bd-43f5-ad5f-853909997120",
   "metadata": {},
   "outputs": [
    {
     "name": "stdout",
     "output_type": "stream",
     "text": [
      "Epoch [1/40], Training Loss: 0.7347, Validation Loss: 0.6110\n",
      "Epoch [2/40], Training Loss: 0.5900, Validation Loss: 0.5426\n",
      "Epoch [3/40], Training Loss: 0.5599, Validation Loss: 0.5443\n",
      "Epoch [4/40], Training Loss: 0.5531, Validation Loss: 0.5366\n",
      "Epoch [5/40], Training Loss: 0.5374, Validation Loss: 0.5311\n",
      "Epoch [6/40], Training Loss: 0.5364, Validation Loss: 0.5298\n",
      "Epoch [7/40], Training Loss: 0.5283, Validation Loss: 0.5328\n",
      "Epoch [8/40], Training Loss: 0.5228, Validation Loss: 0.5299\n",
      "Epoch [9/40], Training Loss: 0.5175, Validation Loss: 0.5203\n",
      "Epoch [10/40], Training Loss: 0.5186, Validation Loss: 0.5192\n",
      "Epoch [11/40], Training Loss: 0.5121, Validation Loss: 0.5226\n",
      "Epoch [12/40], Training Loss: 0.5146, Validation Loss: 0.5200\n",
      "Epoch [13/40], Training Loss: 0.5097, Validation Loss: 0.5169\n",
      "Epoch [14/40], Training Loss: 0.5064, Validation Loss: 0.5195\n",
      "Epoch [15/40], Training Loss: 0.5041, Validation Loss: 0.5152\n",
      "Epoch [16/40], Training Loss: 0.5064, Validation Loss: 0.5169\n",
      "Epoch [17/40], Training Loss: 0.5088, Validation Loss: 0.5238\n",
      "Epoch [18/40], Training Loss: 0.5061, Validation Loss: 0.5146\n",
      "Epoch [19/40], Training Loss: 0.5021, Validation Loss: 0.5152\n",
      "Epoch [20/40], Training Loss: 0.5006, Validation Loss: 0.5198\n",
      "Epoch [21/40], Training Loss: 0.4999, Validation Loss: 0.5126\n",
      "Epoch [22/40], Training Loss: 0.5013, Validation Loss: 0.5115\n",
      "Epoch [23/40], Training Loss: 0.4992, Validation Loss: 0.5160\n",
      "Epoch [24/40], Training Loss: 0.4985, Validation Loss: 0.5257\n",
      "Epoch [25/40], Training Loss: 0.4977, Validation Loss: 0.5121\n",
      "Epoch [26/40], Training Loss: 0.4964, Validation Loss: 0.5153\n",
      "Epoch [27/40], Training Loss: 0.4948, Validation Loss: 0.5142\n",
      "Epoch [28/40], Training Loss: 0.4941, Validation Loss: 0.5155\n",
      "Epoch [29/40], Training Loss: 0.4937, Validation Loss: 0.5095\n",
      "Epoch [30/40], Training Loss: 0.4938, Validation Loss: 0.5177\n",
      "Epoch [31/40], Training Loss: 0.4959, Validation Loss: 0.5098\n",
      "Epoch [32/40], Training Loss: 0.4910, Validation Loss: 0.5164\n",
      "Epoch [33/40], Training Loss: 0.4919, Validation Loss: 0.5086\n",
      "Epoch [34/40], Training Loss: 0.4880, Validation Loss: 0.5195\n",
      "Epoch [35/40], Training Loss: 0.4910, Validation Loss: 0.5118\n",
      "Epoch [36/40], Training Loss: 0.4912, Validation Loss: 0.5122\n",
      "Epoch [37/40], Training Loss: 0.4942, Validation Loss: 0.5175\n",
      "Epoch [38/40], Training Loss: 0.4891, Validation Loss: 0.5286\n",
      "Epoch [39/40], Training Loss: 0.4922, Validation Loss: 0.5088\n",
      "Epoch [40/40], Training Loss: 0.4917, Validation Loss: 0.5169\n"
     ]
    }
   ],
   "source": [
    "# Train Loop\n",
    "net.to(device)\n",
    "net.train()\n",
    "loss_history = []\n",
    "val_loss_history = []\n",
    "\n",
    "for epoch in range(epochs):\n",
    "    running_loss = 0.0\n",
    "    net.train()\n",
    "    for inputs, labels in train_loader:\n",
    "        inputs, labels = inputs.to(device), labels.to(device)\n",
    "        optimizer.zero_grad()\n",
    "        outputs = net(inputs)\n",
    "        loss = cost_fn(outputs.squeeze(), labels)\n",
    "        loss.backward()\n",
    "        optimizer.step()\n",
    "        running_loss += loss.item() * inputs.size(0)\n",
    "\n",
    "    epoch_loss = running_loss / len(train_loader.dataset)\n",
    "    loss_history.append(epoch_loss)\n",
    "\n",
    "    # Validation phase\n",
    "    net.eval()\n",
    "    running_val_loss = 0.0\n",
    "    with torch.no_grad():\n",
    "        for inputs, labels in val_loader:\n",
    "            inputs, labels = inputs.to(device), labels.to(device)\n",
    "            outputs = net(inputs)\n",
    "            val_loss = cost_fn(outputs.squeeze(), labels)\n",
    "            running_val_loss += val_loss.item() * inputs.size(0)\n",
    "\n",
    "    epoch_val_loss = running_val_loss / len(val_loader.dataset)\n",
    "    val_loss_history.append(epoch_val_loss)\n",
    "    print(f'Epoch [{epoch+1}/{epochs}], Training Loss: {epoch_loss:.4f}, Validation Loss: {epoch_val_loss:.4f}')\n"
   ]
  },
  {
   "cell_type": "code",
   "execution_count": 10,
   "id": "d25ef68b-7567-42b8-a780-a9d28587379f",
   "metadata": {},
   "outputs": [
    {
     "data": {
      "image/png": "[encoded data removed]",
      "text/plain": [
       "<Figure size 1000x500 with 1 Axes>"
      ]
     },
     "metadata": {},
     "output_type": "display_data"
    }
   ],
   "source": [
    "plt.figure(figsize=(10, 5))\n",
    "plt.plot(loss_history, label='Training Loss')\n",
    "plt.plot(val_loss_history, label='Validation Loss')\n",
    "plt.xlabel('Epochs')\n",
    "plt.ylabel('Loss')\n",
    "plt.title('Training and Validation Losses')\n",
    "plt.legend()\n",
    "plt.show()"
   ]
  },
  {
   "cell_type": "code",
   "execution_count": 11,
   "id": "227bbb36-a299-4ee9-bf32-791b3ceaa06d",
   "metadata": {},
   "outputs": [],
   "source": [
    "# Move test data tensor to the correct device\n",
    "test_data_X_tensor = X_test_tensor.to(device)\n",
    "\n",
    "# Prediction\n",
    "net.eval()  # Set the model to evaluation mode\n",
    "with torch.no_grad():\n",
    "    test_outputs = net(test_data_X_tensor)\n",
    "    test_predictions = torch.sigmoid(test_outputs)  # Apply sigmoid to the logits to get probabilities\n",
    "    test_predictions = test_predictions.round()  # Round probabilities to get binary class predictions\n",
    "\n",
    "# Convert predictions to a NumPy array\n",
    "test_predictions = test_predictions.cpu().numpy()\n",
    "\n",
    "# Create a DataFrame for submission\n",
    "submission_df = pd.DataFrame({\n",
    "    \"PassengerId\": test_passenger_id,\n",
    "    \"Transported\": test_predictions.flatten().astype(bool)\n",
    "})\n",
    "\n",
    "# Save the DataFrame to a CSV file\n",
    "submission_df.to_csv(r'C:\\Users\\liuch\\Desktop\\395\\Final_Project\\Spaceship_Titanic\\spaceship-titanic\\submission_cnn.csv', index=False)"
   ]
  }
 ],
 "metadata": {
  "kernelspec": {
   "display_name": "Python 3 (ipykernel)",
   "language": "python",
   "name": "python3"
  },
  "language_info": {
   "codemirror_mode": {
    "name": "ipython",
    "version": 3
   },
   "file_extension": ".py",
   "mimetype": "text/x-python",
   "name": "python",
   "nbconvert_exporter": "python",
   "pygments_lexer": "ipython3",
   "version": "3.10.9"
  }
 },
 "nbformat": 4,
 "nbformat_minor": 5
}
