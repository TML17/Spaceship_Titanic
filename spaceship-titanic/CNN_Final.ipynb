{
 "cells": [
  {
   "cell_type": "code",
   "execution_count": 12,
   "id": "10918bf2",
   "metadata": {},
   "outputs": [],
   "source": [
    "import torch\n",
    "import torchvision\n",
    "import pandas as pd\n",
    "import numpy as np\n",
    "import os\n",
    "import matplotlib.pyplot as plt\n",
    "\n",
    "from sklearn.model_selection import train_test_split\n",
    "from skimage import io\n",
    "from torch import nn\n",
    "from torch.utils.data import DataLoader, TensorDataset"
   ]
  },
  {
   "cell_type": "code",
   "execution_count": 13,
   "id": "61d4e8f4",
   "metadata": {},
   "outputs": [],
   "source": [
    "class my_net(nn.Module):\n",
    "    def __init__(self):\n",
    "        super(my_net, self).__init__()\n",
    "        self.conv_stack = nn.Sequential(\n",
    "            nn.Conv2d(in_channels=1, out_channels=10, kernel_size=(1, 4), stride=(1, 1)),\n",
    "            nn.ReLU(),\n",
    "            nn.Conv2d(in_channels=10, out_channels=30, kernel_size=(1, 3), stride=(1, 1)),\n",
    "            nn.ReLU(),\n",
    "            nn.Conv2d(in_channels=30, out_channels=50, kernel_size=(1, 2), stride=(1, 1)),\n",
    "            nn.ReLU(),\n",
    "            nn.Conv2d(in_channels=50, out_channels=70, kernel_size=(1, 2), stride=(1, 1)),  # New Conv Layer\n",
    "            nn.ReLU(),\n",
    "            nn.Dropout(0.5),\n",
    "            nn.Flatten(),\n",
    "            nn.Linear(1330, 1000),\n",
    "            nn.ReLU(),\n",
    "            nn.Linear(1000, 1)\n",
    "        )\n",
    "    \n",
    "    def forward(self, x):\n",
    "        scores = self.conv_stack(x)\n",
    "        return scores"
   ]
  },
  {
   "cell_type": "code",
   "execution_count": 14,
   "id": "4e73a761",
   "metadata": {},
   "outputs": [
    {
     "name": "stdout",
     "output_type": "stream",
     "text": [
      "GPU is available\n"
     ]
    }
   ],
   "source": [
    "## Checking the availiability of cuda cores\n",
    "if torch.cuda.is_available():\n",
    "    device = torch.device('cuda')\n",
    "    print('GPU is available')\n",
    "else:\n",
    "    device = torch.device('cpu')\n",
    "    print('GPU is not available')"
   ]
  },
  {
   "cell_type": "code",
   "execution_count": 15,
   "id": "ce5a4e0e",
   "metadata": {},
   "outputs": [],
   "source": [
    "## Hyperparms\n",
    "epochs = 500\n",
    "lrate = 0.0025\n",
    "bsize = 32\n",
    "\n",
    "## For reproduction purposes \n",
    "torch.manual_seed(7)\n",
    "\n",
    "## Cost Function\n",
    "cost_fn = nn.BCEWithLogitsLoss()\n",
    "\n",
    "## Intialize the model\n",
    "net = my_net()\n",
    "\n",
    "## Optimizer (Stochastic Gradient Descent)\n",
    "optimizer = torch.optim.SGD(net.parameters(), lr=lrate)"
   ]
  },
  {
   "cell_type": "code",
   "execution_count": 16,
   "id": "6e5db08c-ec95-45dd-afaf-226de6e132e6",
   "metadata": {},
   "outputs": [],
   "source": [
    "## Import and split the training and testing dataset\n",
    "test_data = pd.read_csv(r'C:\\Users\\liuch\\Desktop\\395\\Final_Project\\Spaceship_Titanic\\spaceship-titanic\\test_data_featured.csv')\n",
    "\n",
    "# Change this comment if you want to pick from mode imputation or knn imputation\n",
    "## train_data_mode = pd.read_csv(r'C:\\Users\\liuch\\Desktop\\395\\Final_Project\\Spaceship_Titanic\\spaceship-titanic\\train_data_mode.csv')\n",
    "train_data_mode = pd.read_csv(r'C:\\Users\\liuch\\Desktop\\395\\Final_Project\\Spaceship_Titanic\\spaceship-titanic\\train_data_knn.csv')\n",
    "\n",
    "train_data_mode.drop(['PassengerId', 'Name', 'Cabin'], axis=1, inplace=True)\n",
    "test_data.drop(['PassengerId', 'Name', 'Cabin'], axis=1, inplace=True)\n",
    "\n",
    "train_mode_y = train_data_mode['Transported']\n",
    "train_mode_X = train_data_mode.drop('Transported',axis=1)\n",
    "test_data_y = test_data['Transported']\n",
    "test_data_X = test_data.drop('Transported',axis=1)"
   ]
  },
  {
   "cell_type": "code",
   "execution_count": 17,
   "id": "04111f51-1b56-4f4e-8c4d-fe2afb9d5c2a",
   "metadata": {},
   "outputs": [
    {
     "name": "stdout",
     "output_type": "stream",
     "text": [
      "CryoSleep                    float64\n",
      "Age                          float64\n",
      "VIP                          float64\n",
      "RoomService                  float64\n",
      "FoodCourt                    float64\n",
      "ShoppingMall                 float64\n",
      "Spa                          float64\n",
      "VRDeck                       float64\n",
      "Num                          float64\n",
      "Deck_A                       float64\n",
      "Deck_B                       float64\n",
      "Deck_C                       float64\n",
      "Deck_D                       float64\n",
      "Deck_E                       float64\n",
      "Deck_F                       float64\n",
      "Deck_G                       float64\n",
      "Deck_T                       float64\n",
      "Side_P                       float64\n",
      "Side_S                       float64\n",
      "Destination_55 Cancri e      float64\n",
      "Destination_PSO J318.5-22    float64\n",
      "Destination_TRAPPIST-1e      float64\n",
      "HomePlanet_Earth             float64\n",
      "HomePlanet_Europa            float64\n",
      "HomePlanet_Mars              float64\n",
      "Cabin_encoded                float64\n",
      "dtype: object\n"
     ]
    }
   ],
   "source": [
    "# Convert Boolean Columns to Floats\n",
    "for col in train_mode_X.columns:\n",
    "    if train_mode_X[col].dtype == bool:\n",
    "        train_mode_X[col] = train_mode_X[col].astype(float)\n",
    "\n",
    "print(train_mode_X.dtypes)"
   ]
  },
  {
   "cell_type": "code",
   "execution_count": 18,
   "id": "0f0d37d8-805e-4df9-b24f-bd93e2907111",
   "metadata": {},
   "outputs": [],
   "source": [
    "# Convert DataFrame to tensors\n",
    "train_mode_X_tensor = torch.tensor(train_mode_X.values, dtype=torch.float32)\n",
    "train_mode_X_tensor = train_mode_X_tensor.view(-1, 1, 1, 26)\n",
    "train_mode_y_tensor = torch.tensor(train_mode_y.values, dtype=torch.float32)\n",
    "\n",
    "# Create datasets\n",
    "train_dataset = TensorDataset(train_mode_X_tensor, train_mode_y_tensor)\n",
    "\n",
    "# Create DataLoader\n",
    "train_loader = DataLoader(dataset=train_dataset, batch_size=bsize, shuffle=True)"
   ]
  },
  {
   "cell_type": "code",
   "execution_count": 19,
   "id": "bc17290a-d6bd-43f5-ad5f-853909997120",
   "metadata": {},
   "outputs": [
    {
     "name": "stdout",
     "output_type": "stream",
     "text": [
      "Epoch [10/500], Loss: 0.5085\n",
      "Epoch [20/500], Loss: 0.4956\n",
      "Epoch [30/500], Loss: 0.4874\n",
      "Epoch [40/500], Loss: 0.4776\n",
      "Epoch [50/500], Loss: 0.4724\n",
      "Epoch [60/500], Loss: 0.4673\n",
      "Epoch [70/500], Loss: 0.4655\n",
      "Epoch [80/500], Loss: 0.4631\n",
      "Epoch [90/500], Loss: 0.4589\n",
      "Epoch [100/500], Loss: 0.4575\n",
      "Epoch [110/500], Loss: 0.4520\n",
      "Epoch [120/500], Loss: 0.4503\n",
      "Epoch [130/500], Loss: 0.4487\n",
      "Epoch [140/500], Loss: 0.4482\n",
      "Epoch [150/500], Loss: 0.4485\n",
      "Epoch [160/500], Loss: 0.4461\n",
      "Epoch [170/500], Loss: 0.4430\n",
      "Epoch [180/500], Loss: 0.4391\n",
      "Epoch [190/500], Loss: 0.4366\n",
      "Epoch [200/500], Loss: 0.4340\n",
      "Epoch [210/500], Loss: 0.4318\n",
      "Epoch [220/500], Loss: 0.4284\n",
      "Epoch [230/500], Loss: 0.4278\n",
      "Epoch [240/500], Loss: 0.4226\n",
      "Epoch [250/500], Loss: 0.4249\n",
      "Epoch [260/500], Loss: 0.4179\n",
      "Epoch [270/500], Loss: 0.4183\n",
      "Epoch [280/500], Loss: 0.4127\n",
      "Epoch [290/500], Loss: 0.4125\n",
      "Epoch [300/500], Loss: 0.4114\n",
      "Epoch [310/500], Loss: 0.4043\n",
      "Epoch [320/500], Loss: 0.4063\n",
      "Epoch [330/500], Loss: 0.4027\n",
      "Epoch [340/500], Loss: 0.4038\n",
      "Epoch [350/500], Loss: 0.3985\n",
      "Epoch [360/500], Loss: 0.3984\n",
      "Epoch [370/500], Loss: 0.3993\n",
      "Epoch [380/500], Loss: 0.3938\n",
      "Epoch [390/500], Loss: 0.3948\n",
      "Epoch [400/500], Loss: 0.3913\n",
      "Epoch [410/500], Loss: 0.3897\n",
      "Epoch [420/500], Loss: 0.3909\n",
      "Epoch [430/500], Loss: 0.3868\n",
      "Epoch [440/500], Loss: 0.3837\n",
      "Epoch [450/500], Loss: 0.3865\n",
      "Epoch [460/500], Loss: 0.3809\n",
      "Epoch [470/500], Loss: 0.3798\n",
      "Epoch [480/500], Loss: 0.3820\n",
      "Epoch [490/500], Loss: 0.3783\n",
      "Epoch [500/500], Loss: 0.3775\n"
     ]
    }
   ],
   "source": [
    "# Train Loop\n",
    "net.to(device)\n",
    "net.train()\n",
    "loss_history = []\n",
    "\n",
    "for epoch in range(epochs):\n",
    "    running_loss = 0.0\n",
    "    for inputs, labels in train_loader:\n",
    "        inputs, labels = inputs.to(device), labels.to(device)  # Move tensors to GPU\n",
    "        # Forward pass\n",
    "        outputs = net(inputs)\n",
    "        loss = cost_fn(outputs.squeeze(), labels)\n",
    "\n",
    "        # Backward and optimize\n",
    "        optimizer.zero_grad()\n",
    "        loss.backward()\n",
    "        optimizer.step()\n",
    "\n",
    "        running_loss += loss.item() * inputs.size(0)\n",
    "\n",
    "    epoch_loss = running_loss / len(train_loader.dataset)\n",
    "    loss_history.append(epoch_loss)\n",
    "\n",
    "    if (epoch+1) % 10 == 0:\n",
    "        print(f'Epoch [{epoch+1}/{epochs}], Loss: {epoch_loss:.4f}')"
   ]
  },
  {
   "cell_type": "code",
   "execution_count": 20,
   "id": "110ccde3-a64e-4db7-a014-ceb80dc5fef1",
   "metadata": {},
   "outputs": [
    {
     "name": "stdout",
     "output_type": "stream",
     "text": [
      "CryoSleep                    float64\n",
      "Age                          float64\n",
      "VIP                          float64\n",
      "RoomService                  float64\n",
      "FoodCourt                    float64\n",
      "ShoppingMall                 float64\n",
      "Spa                          float64\n",
      "VRDeck                       float64\n",
      "Num                          float64\n",
      "Deck_A                       float64\n",
      "Deck_B                       float64\n",
      "Deck_C                       float64\n",
      "Deck_D                       float64\n",
      "Deck_E                       float64\n",
      "Deck_F                       float64\n",
      "Deck_G                       float64\n",
      "Deck_T                       float64\n",
      "Side_P                       float64\n",
      "Side_S                       float64\n",
      "Destination_55 Cancri e      float64\n",
      "Destination_PSO J318.5-22    float64\n",
      "Destination_TRAPPIST-1e      float64\n",
      "HomePlanet_Earth             float64\n",
      "HomePlanet_Europa            float64\n",
      "HomePlanet_Mars              float64\n",
      "Cabin_encoded                  int64\n",
      "dtype: object\n"
     ]
    }
   ],
   "source": [
    "# Convert Boolean Columns to Floats\n",
    "for col in test_data_X.columns:\n",
    "    if test_data_X[col].dtype == bool or test_data_X[col].dtype == object:\n",
    "        test_data_X[col] = test_data_X[col].astype(float)\n",
    "\n",
    "print(test_data_X.dtypes)"
   ]
  },
  {
   "cell_type": "code",
   "execution_count": 21,
   "id": "227bbb36-a299-4ee9-bf32-791b3ceaa06d",
   "metadata": {},
   "outputs": [
    {
     "name": "stdout",
     "output_type": "stream",
     "text": [
      "Accuracy of the network on the test samples: 82.68%\n"
     ]
    }
   ],
   "source": [
    "# Convert test data\n",
    "X_test = torch.tensor(test_data_X.values, dtype=torch.float32)\n",
    "y_test = torch.tensor(test_data_y.values, dtype=torch.float32)\n",
    "test_dataset = TensorDataset(train_mode_X_tensor, train_mode_y_tensor)\n",
    "test_loader = DataLoader(dataset=test_dataset, batch_size=bsize)\n",
    "\n",
    "# Evaluation mode\n",
    "net.eval()\n",
    "with torch.no_grad():\n",
    "    correct = 0\n",
    "    total = 0\n",
    "    for inputs, labels in test_loader:\n",
    "        inputs, labels = inputs.to(device), labels.to(device)  # Move tensors to GPU\n",
    "        outputs = net(inputs)\n",
    "        predicted = (outputs.squeeze() > 0).float()\n",
    "        total += labels.size(0)\n",
    "        correct += (predicted == labels).sum().item()\n",
    "\n",
    "    print(f'Accuracy of the network on the test samples: {100 * correct / total:.2f}%')"
   ]
  },
  {
   "cell_type": "code",
   "execution_count": 22,
   "id": "f8dbf745",
   "metadata": {},
   "outputs": [
    {
     "data": {
      "image/png": "[encoded data removed]",
      "text/plain": [
       "<Figure size 640x480 with 1 Axes>"
      ]
     },
     "metadata": {},
     "output_type": "display_data"
    }
   ],
   "source": [
    "plt.plot(loss_history, label='Training Loss')\n",
    "plt.title('Training Loss per Epoch')\n",
    "plt.xlabel('Epochs')\n",
    "plt.ylabel('Loss')\n",
    "plt.ylim(0, max(loss_history))\n",
    "plt.show()"
   ]
  }
 ],
 "metadata": {
  "kernelspec": {
   "display_name": "Python 3 (ipykernel)",
   "language": "python",
   "name": "python3"
  },
  "language_info": {
   "codemirror_mode": {
    "name": "ipython",
    "version": 3
   },
   "file_extension": ".py",
   "mimetype": "text/x-python",
   "name": "python",
   "nbconvert_exporter": "python",
   "pygments_lexer": "ipython3",
   "version": "3.10.9"
  }
 },
 "nbformat": 4,
 "nbformat_minor": 5
}
